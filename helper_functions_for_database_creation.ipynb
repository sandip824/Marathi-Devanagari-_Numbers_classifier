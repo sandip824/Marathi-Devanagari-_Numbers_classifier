{
 "cells": [
  {
   "cell_type": "code",
   "execution_count": null,
   "metadata": {},
   "outputs": [],
   "source": [
    "import cv2\n",
    "\n",
    "im =  cv2.imread(\"digits.png\")\n",
    "#im = cv2.resize(im,(1000,500))\n",
    "\n",
    "imgheight=im.shape[0]\n",
    "imgwidth=im.shape[1]\n",
    "\n",
    "y1 = 0\n",
    "M = imgheight//9\n",
    "N = imgwidth//21\n",
    "\n",
    "for y in range(0,imgheight,M):\n",
    "    for x in range(0, imgwidth, N):\n",
    "        y1 = y + M\n",
    "        x1 = x + N\n",
    "        tiles = im[y:y+M,x:x+N]\n",
    "\n",
    "        cv2.rectangle(im, (x, y), (x1, y1), (0, 255, 0))\n",
    "        cv2.imwrite(\"save/\" + str(x) + '_' + str(y)+\".png\",tiles)\n",
    "\n",
    "cv2.imwrite(\"asas.png\",im)"
   ]
  },
  {
   "cell_type": "code",
   "execution_count": 31,
   "metadata": {},
   "outputs": [],
   "source": [
    "#rename files wihin folder\n",
    "import os\n",
    "\n",
    "path = os.chdir(\"C:/Users/abc/Desktop/tool/dataset/9/test/\")\n",
    "\n",
    "i = 90\n",
    "for file in os.listdir(path):\n",
    "\n",
    "    new_file_name = \"{}.jpg\".format(i)\n",
    "    os.rename(file, new_file_name)\n",
    "\n",
    "    i = i + 1"
   ]
  },
  {
   "cell_type": "code",
   "execution_count": 34,
   "metadata": {},
   "outputs": [],
   "source": [
    "#resize\n",
    "import os\n",
    "from PIL import Image\n",
    "\n",
    "f = r'C:\\Users\\abc\\Desktop\\tool\\dataset\\test'      #Enter the location of your Image Folder\n",
    "    \n",
    "new_d = 28\n",
    "\n",
    "for file in os.listdir(f):\n",
    "    f_img = f+'/'+file\n",
    "    try:\n",
    "        img = Image.open(f_img)\n",
    "        img = img.resize((new_d, new_d))\n",
    "        img.save(f_img)\n",
    "    except IOError:\n",
    "        pass"
   ]
  },
  {
   "cell_type": "code",
   "execution_count": 35,
   "metadata": {},
   "outputs": [],
   "source": [
    "#preporcessing\n",
    "import cv2 \n",
    "from PIL import Image, ImageEnhance\n",
    "path = r'C:\\Users\\abc\\Desktop\\tool\\dataset\\test' # Source Folder\n",
    "\n",
    "files = os.listdir(path)\n",
    "\n",
    "for image in files:\n",
    "    img = cv2.imread(os.path.join(path,image))\n",
    "    \n",
    "    gray = cv2.cvtColor(img,cv2.COLOR_BGR2GRAY)\n",
    "    imagem = cv2.bitwise_not(gray)\n",
    "    \n",
    "    cv2.imwrite(os.path.join(path,image),imagem)"
   ]
  },
  {
   "cell_type": "code",
   "execution_count": 39,
   "metadata": {},
   "outputs": [
    {
     "name": "stdout",
     "output_type": "stream",
     "text": [
      "y shape: (100,)\n",
      "[0 0 0 0 0 0 0 0 0 0 1 1 1 1 1 1 1 1 1 1 2 2 2 2 2 2 2 2 2 2 3 3 3 3 3 3 3\n",
      " 3 3 3 4 4 4 4 4 4 4 4 4 4 5 5 5 5 5 5 5 5 5 5 6 6 6 6 6 6 6 6 6 6 7 7 7 7\n",
      " 7 7 7 7 7 7 8 8 8 8 8 8 8 8 8 8 9 9 9 9 9 9 9 9 9 9]\n"
     ]
    }
   ],
   "source": [
    "#labels as per image sequence\n",
    "import numpy as np\n",
    "classes = np.array([[i]*10 for i in range(10)]).reshape(-1)\n",
    "\n",
    "print(f'y shape: {classes.shape}')\n",
    "print(classes)"
   ]
  },
  {
   "cell_type": "code",
   "execution_count": 41,
   "metadata": {},
   "outputs": [
    {
     "data": {
      "text/plain": [
       "(100, 28, 28)"
      ]
     },
     "execution_count": 41,
     "metadata": {},
     "output_type": "execute_result"
    }
   ],
   "source": [
    "#save images and labels as .npy \n",
    "\n",
    "import glob\n",
    "import numpy as np\n",
    "from PIL import Image\n",
    "\n",
    "filePath = 'C:/Users/abc/Desktop/tool/dataset/test/'\n",
    "filelist=[]\n",
    "for i in range(100):\n",
    "    fname = filePath + str(i)+\".jpg\"\n",
    "    filelist.append(fname)\n",
    "#print(filelist)    \n",
    "\n",
    "\n",
    "\n",
    "x = np.array([np.array(Image.open(fname)) for fname in filelist])\n",
    "\n",
    "#Save files to numpy binary format...\n",
    "xfile = 'marathi_swar_x_test_500.npy'\n",
    "yfile = 'marathi_swar_y_test_500.npy'\n",
    "np.save(xfile, x)\n",
    "np.save(yfile, classes)\n",
    "\n"
   ]
  }
 ],
 "metadata": {
  "kernelspec": {
   "display_name": "Python 3",
   "language": "python",
   "name": "python3"
  },
  "language_info": {
   "codemirror_mode": {
    "name": "ipython",
    "version": 3
   },
   "file_extension": ".py",
   "mimetype": "text/x-python",
   "name": "python",
   "nbconvert_exporter": "python",
   "pygments_lexer": "ipython3",
   "version": "3.7.6"
  }
 },
 "nbformat": 4,
 "nbformat_minor": 4
}
