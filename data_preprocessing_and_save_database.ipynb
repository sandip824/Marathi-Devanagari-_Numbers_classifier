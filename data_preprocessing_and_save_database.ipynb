{
 "cells": [
  {
   "cell_type": "code",
   "execution_count": null,
   "metadata": {},
   "outputs": [],
   "source": [
    "import cv2\n",
    "\n",
    "im =  cv2.imread(\"digits.png\")\n",
    "#im = cv2.resize(im,(1000,500))\n",
    "\n",
    "imgheight=im.shape[0]\n",
    "imgwidth=im.shape[1]\n",
    "\n",
    "y1 = 0\n",
    "M = imgheight//9\n",
    "N = imgwidth//21\n",
    "\n",
    "for y in range(0,imgheight,M):\n",
    "    for x in range(0, imgwidth, N):\n",
    "        y1 = y + M\n",
    "        x1 = x + N\n",
    "        tiles = im[y:y+M,x:x+N]\n",
    "\n",
    "        cv2.rectangle(im, (x, y), (x1, y1), (0, 255, 0))\n",
    "        cv2.imwrite(\"save/\" + str(x) + '_' + str(y)+\".png\",tiles)\n",
    "\n",
    "cv2.imwrite(\"asas.png\",im)"
   ]
  },
  {
   "cell_type": "code",
   "execution_count": null,
   "metadata": {},
   "outputs": [],
   "source": [
    "path = r'C:\\Users\\abc\\Desktop\\tool\\save' # Source Folder\n",
    "\n",
    "files = os.listdir(path)\n",
    "\n",
    "for image in files:\n",
    "    img = cv2.imread(os.path.join(path,image))\n",
    "    gray = cv2.cvtColor(img,cv2.COLOR_BGR2GRAY)\n",
    "    bw_image = gray.convert(mode='L') #L is 8-bit black-and-white image mode\n",
    "    bw_image = ImageEnhance.Contrast(bw_image).enhance(1.5)\n",
    "    \n",
    "    \n",
    "    cv2.imwrite(os.path.join(path,image),gray)"
   ]
  },
  {
   "cell_type": "code",
   "execution_count": null,
   "metadata": {},
   "outputs": [],
   "source": [
    "import glob\n",
    "import numpy as np\n",
    "from PIL import Image\n",
    "filelist = glob.glob('save/*.png')\n",
    "x = np.array([np.array(Image.open(fname)) for fname in filelist])\n",
    "#print(x)\n",
    "x.shape\n"
   ]
  },
  {
   "cell_type": "code",
   "execution_count": null,
   "metadata": {},
   "outputs": [],
   "source": [
    "import cv2 \n",
    "\n",
    "im = cv2.imread(\"img.jpg\")\n",
    "newimg = cv2.resize(im,(28,28),interpolation = cv2.INTER_AREA)\n",
    "cv2.imwrite(\"image1.jpg\",newimg)\n"
   ]
  },
  {
   "cell_type": "code",
   "execution_count": null,
   "metadata": {},
   "outputs": [],
   "source": [
    "import numpy as np\n",
    "classes = np.array([[i]*20 for i in range(10)]).reshape(-1)\n",
    "\n",
    "print(f'y shape: {classes.shape}')\n",
    "print(classes)"
   ]
  },
  {
   "cell_type": "code",
   "execution_count": null,
   "metadata": {},
   "outputs": [],
   "source": [
    "#final resize\n",
    "import os\n",
    "from PIL import Image\n",
    "\n",
    "f = r'C:\\Users\\abc\\Desktop\\tool\\dataset\\test'      #Enter the location of your Image Folder\n",
    "    \n",
    "new_d = 28\n",
    "\n",
    "for file in os.listdir(f):\n",
    "    f_img = f+'/'+file\n",
    "    try:\n",
    "        img = Image.open(f_img)\n",
    "        img = img.resize((new_d, new_d))\n",
    "        img.save(f_img)\n",
    "    except IOError:\n",
    "        pass"
   ]
  },
  {
   "cell_type": "code",
   "execution_count": null,
   "metadata": {},
   "outputs": [],
   "source": [
    "#final preporcessing\n",
    "import cv2 \n",
    "from PIL import Image, ImageEnhance\n",
    "path = r'C:\\Users\\abc\\Desktop\\tool\\dataset\\test' # Source Folder\n",
    "\n",
    "files = os.listdir(path)\n",
    "\n",
    "for image in files:\n",
    "    img = cv2.imread(os.path.join(path,image))\n",
    "    \n",
    "    gray = cv2.cvtColor(img,cv2.COLOR_BGR2GRAY)\n",
    "    imagem = cv2.bitwise_not(gray)\n",
    "    \n",
    "    cv2.imwrite(os.path.join(path,image),imagem)"
   ]
  },
  {
   "cell_type": "code",
   "execution_count": null,
   "metadata": {},
   "outputs": [],
   "source": [
    "#final labeling\n",
    "import numpy as np\n",
    "classes = np.array([[i]*10 for i in range(10)]).reshape(-1)\n",
    "\n",
    "print(f'y shape: {classes.shape}')\n",
    "print(classes)"
   ]
  },
  {
   "cell_type": "code",
   "execution_count": null,
   "metadata": {},
   "outputs": [],
   "source": [
    "import glob\n",
    "import numpy as np\n",
    "from PIL import Image\n",
    "\n",
    "filePath = 'C:/Users/abc/Desktop/tool/dataset/test/'\n",
    "filelist=[]\n",
    "for i in range(100):\n",
    "    fname = filePath + str(i)+\".jpg\"\n",
    "    filelist.append(fname)\n",
    "#print(filelist)    \n",
    "\n",
    "\n",
    "\n",
    "x = np.array([np.array(Image.open(fname)) for fname in filelist])\n",
    "#print(x)\n",
    "x.shape\n"
   ]
  },
  {
   "cell_type": "code",
   "execution_count": null,
   "metadata": {},
   "outputs": [],
   "source": [
    "#Save files to numpy binary format...\n",
    "xfile = 'marathi_swar_x_test_500.npy'\n",
    "yfile = 'marathi_swar_y_test_500.npy'\n",
    "np.save(xfile, x)\n",
    "np.save(yfile, classes)"
   ]
  },
  {
   "cell_type": "code",
   "execution_count": null,
   "metadata": {},
   "outputs": [],
   "source": [
    "x_test = np.load(xfile)\n",
    "y_test = np.load(yfile)\n",
    "x_test.shape, y_test.shape"
   ]
  },
  {
   "cell_type": "code",
   "execution_count": null,
   "metadata": {},
   "outputs": [],
   "source": [
    "from PIL import Image\n",
    "import matplotlib.pyplot as plt\n",
    "import numpy as np\n",
    "%matplotlib inline\n",
    "\n",
    "def show(img, figsize=(8, 4), title=None):\n",
    "    plt.figure(figsize=figsize)\n",
    "    plt.imshow(img)\n",
    "    if title:\n",
    "        plt.title(title)\n",
    "    plt.show()\n"
   ]
  },
  {
   "cell_type": "code",
   "execution_count": null,
   "metadata": {},
   "outputs": [],
   "source": [
    "for i in np.random.randint(x_test.shape[0], size=6):\n",
    "    show(x_test[i], title=f'Digit [{y_test[i]}]', figsize=(1,1))"
   ]
  },
  {
   "cell_type": "code",
   "execution_count": null,
   "metadata": {},
   "outputs": [],
   "source": [
    "#final rename files wihin folder\n",
    "import os\n",
    "\n",
    "path = os.chdir(\"C:/Users/abc/Desktop/tool/dataset/9/test/\")\n",
    "\n",
    "i = 90\n",
    "for file in os.listdir(path):\n",
    "\n",
    "    new_file_name = \"{}.jpg\".format(i)\n",
    "    os.rename(file, new_file_name)\n",
    "\n",
    "    i = i + 1"
   ]
  },
  {
   "cell_type": "code",
   "execution_count": 28,
   "metadata": {},
   "outputs": [],
   "source": [
    "from PIL import Image\n",
    " \n",
    "# Opens a image in RGB mode\n",
    "im = Image.open(r\"C:\\Users\\abc\\Desktop\\tool\\save\\1.jpg\")\n",
    " \n",
    "# Size of the image in pixels (size of original image)\n",
    "# (This is not mandatory)\n",
    "width, height = im.size\n",
    " \n",
    "# Setting the points for cropped image\n",
    "left = 3\n",
    "top = height / 4\n",
    "right = 100\n",
    "bottom = 3 * height / 4\n",
    " \n",
    "# Cropped image of above dimension\n",
    "# (It will not change original image)\n",
    "im1 = im.crop((left, top, right, bottom))\n",
    "im1.save('save/'+\"cropped\" + '.jpg', 'JPEG')"
   ]
  },
  {
   "cell_type": "code",
   "execution_count": 29,
   "metadata": {},
   "outputs": [],
   "source": [
    "def preprocess_image(f_img):\n",
    "    img = Image.open(f_img)\n",
    "    img = img.resize((28, 28))\n",
    "    img.save(f_img)\n",
    "    img = cv2.imread(f_img)\n",
    "    gray = cv2.cvtColor(img,cv2.COLOR_BGR2GRAY)\n",
    "    imagem = cv2.bitwise_not(gray)\n",
    "    return imagem\n",
    "def get_prediction(img):\n",
    "    classifier = load_model('marathi_swar_10_Epochs.h5')\n",
    "    input_im =np.array([np.array(img)])\n",
    "    input_im = input_im.reshape(1,28,28,1) \n",
    "    res = (classifier.predict(input_im, 1, verbose = 0)[0])\n",
    "    prediction = np.argmax(res)\n",
    "    marathiSwar = ['अ','आ','इ','ई','उ','ऊ','ए','ऐ','ओ','अं']\n",
    "    return marathiSwar[prediction]"
   ]
  },
  {
   "cell_type": "code",
   "execution_count": 39,
   "metadata": {},
   "outputs": [],
   "source": [
    "import os\n",
    "from PIL import Image\n",
    "import cv2\n",
    "f_img = (\"C:\\\\Users\\\\abc\\\\Desktop\\\\tool\\\\save\\\\img.jpg\")\n",
    "preprocess_image(f_img)"
   ]
  },
  {
   "cell_type": "code",
   "execution_count": 40,
   "metadata": {},
   "outputs": [
    {
     "name": "stdout",
     "output_type": "stream",
     "text": [
      "(1, 28, 28)\n"
     ]
    }
   ],
   "source": [
    "from keras.models import load_model\n",
    "from PIL import Image\n",
    "import numpy as np\n",
    "classifier = load_model('marathi_swar_10_Epochs.h5')\n",
    "f_img = (\"C:\\\\Users\\\\abc\\\\Desktop\\\\tool\\\\save\\\\img.jpg\")\n",
    "img = Image.open(f_img)\n",
    "\n",
    "input_im =np.array([np.array(img)])\n",
    "print(input_im.shape)"
   ]
  },
  {
   "cell_type": "code",
   "execution_count": 41,
   "metadata": {},
   "outputs": [
    {
     "name": "stdout",
     "output_type": "stream",
     "text": [
      "model prediction : अ\n"
     ]
    }
   ],
   "source": [
    "import matplotlib.pyplot as plt\n",
    "import numpy as np\n",
    "\n",
    "\n",
    "   \n",
    "#plt.imshow(input_im, cmap=plt.get_cmap('gray'))\n",
    "#plt.show()\n",
    "input_im = input_im.reshape(1,28,28,1) \n",
    "res = (classifier.predict(input_im, 1, verbose = 0)[0])\n",
    "prediction = np.argmax(res)\n",
    "marathiSwar = ['अ','आ','इ','ई','उ','ऊ','ए','ऐ','ओ','अं']\n",
    "print('model prediction :',marathiSwar[prediction])\n",
    "    \n"
   ]
  }
 ],
 "metadata": {
  "kernelspec": {
   "display_name": "Python 3",
   "language": "python",
   "name": "python3"
  },
  "language_info": {
   "codemirror_mode": {
    "name": "ipython",
    "version": 3
   },
   "file_extension": ".py",
   "mimetype": "text/x-python",
   "name": "python",
   "nbconvert_exporter": "python",
   "pygments_lexer": "ipython3",
   "version": "3.7.11"
  }
 },
 "nbformat": 4,
 "nbformat_minor": 4
}
